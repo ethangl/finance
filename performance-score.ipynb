{
 "nbformat": 4,
 "nbformat_minor": 2,
 "metadata": {
  "language_info": {
   "name": "python",
   "codemirror_mode": {
    "name": "ipython",
    "version": 3
   },
   "version": "3.7.7-final"
  },
  "orig_nbformat": 2,
  "file_extension": ".py",
  "mimetype": "text/x-python",
  "name": "python",
  "npconvert_exporter": "python",
  "pygments_lexer": "ipython3",
  "version": 3,
  "kernelspec": {
   "name": "python37764bit377pyenv9e6bb1855e444a01b4339b98a0864565",
   "display_name": "Python 3.7.7 64-bit ('3.7.7': pyenv)"
  }
 },
 "cells": [
  {
   "cell_type": "code",
   "execution_count": 5,
   "metadata": {},
   "outputs": [],
   "source": [
    "import numpy as np\n",
    "import yfinance as yf\n",
    "\n",
    "START_DATE = '2019-01-01'\n",
    "ASSET = 'BIL'\n",
    "EXPENSES = 0.14 / 252\n",
    "PERIODS = [21, 63, 126]\n",
    "WEIGHTS = [1/3, 1/3, 1/3]\n",
    "\n",
    "df = yf.download(ASSET, start=START_DATE, auto_adjust=True, progress=False)\n",
    "df.drop(['Open', 'High', 'Low', 'Volume'], axis=1, inplace=True)"
   ]
  },
  {
   "cell_type": "code",
   "execution_count": 6,
   "metadata": {},
   "outputs": [
    {
     "output_type": "execute_result",
     "data": {
      "text/plain": "                Close       21D       63D      126D     Score\nDate                                                         \n2020-03-19  91.577995  0.003039  0.005595  0.009479  0.006038\n2020-03-20  91.607986  0.003367  0.005705  0.009810  0.006294\n2020-03-23  91.587997  0.002929  0.005376  0.009479  0.005928\n2020-03-24  91.587997  0.003039  0.005321  0.009259  0.005873\n2020-03-25  91.587997  0.003039  0.005321  0.009259  0.005873\n2020-03-26  91.587997  0.002819  0.005211  0.009259  0.005763\n2020-03-27  91.568008  0.002382  0.004882  0.008819  0.005361\n2020-03-30  91.568008  0.002491  0.004991  0.008819  0.005434\n2020-03-31  91.577995  0.002305  0.004991  0.008818  0.005371\n2020-04-01  91.570000  0.001998  0.004903  0.008764  0.005222\n2020-04-02  91.580002  0.001670  0.004684  0.008874  0.005076\n2020-04-03  91.550003  0.001123  0.004355  0.008213  0.004564\n2020-04-06  91.559998  0.001233  0.004574  0.008323  0.004710\n2020-04-07  91.540001  0.000577  0.004355  0.007993  0.004308\n2020-04-08  91.550003  0.000905  0.004245  0.008103  0.004418\n2020-04-09  91.529999  0.000468  0.003916  0.007883  0.004089\n2020-04-13  91.550003  0.000577  0.004135  0.007882  0.004198\n2020-04-14  91.559998  0.000468  0.004245  0.007882  0.004198\n2020-04-15  91.550003  0.000250  0.004135  0.007882  0.004089\n2020-04-16  91.540001  0.000141  0.003916  0.007662  0.003906\n2020-04-17  91.556602  0.000104  0.003879  0.007735  0.003906",
      "text/html": "<div>\n<style scoped>\n    .dataframe tbody tr th:only-of-type {\n        vertical-align: middle;\n    }\n\n    .dataframe tbody tr th {\n        vertical-align: top;\n    }\n\n    .dataframe thead th {\n        text-align: right;\n    }\n</style>\n<table border=\"1\" class=\"dataframe\">\n  <thead>\n    <tr style=\"text-align: right;\">\n      <th></th>\n      <th>Close</th>\n      <th>21D</th>\n      <th>63D</th>\n      <th>126D</th>\n      <th>Score</th>\n    </tr>\n    <tr>\n      <th>Date</th>\n      <th></th>\n      <th></th>\n      <th></th>\n      <th></th>\n      <th></th>\n    </tr>\n  </thead>\n  <tbody>\n    <tr>\n      <th>2020-03-19</th>\n      <td>91.577995</td>\n      <td>0.003039</td>\n      <td>0.005595</td>\n      <td>0.009479</td>\n      <td>0.006038</td>\n    </tr>\n    <tr>\n      <th>2020-03-20</th>\n      <td>91.607986</td>\n      <td>0.003367</td>\n      <td>0.005705</td>\n      <td>0.009810</td>\n      <td>0.006294</td>\n    </tr>\n    <tr>\n      <th>2020-03-23</th>\n      <td>91.587997</td>\n      <td>0.002929</td>\n      <td>0.005376</td>\n      <td>0.009479</td>\n      <td>0.005928</td>\n    </tr>\n    <tr>\n      <th>2020-03-24</th>\n      <td>91.587997</td>\n      <td>0.003039</td>\n      <td>0.005321</td>\n      <td>0.009259</td>\n      <td>0.005873</td>\n    </tr>\n    <tr>\n      <th>2020-03-25</th>\n      <td>91.587997</td>\n      <td>0.003039</td>\n      <td>0.005321</td>\n      <td>0.009259</td>\n      <td>0.005873</td>\n    </tr>\n    <tr>\n      <th>2020-03-26</th>\n      <td>91.587997</td>\n      <td>0.002819</td>\n      <td>0.005211</td>\n      <td>0.009259</td>\n      <td>0.005763</td>\n    </tr>\n    <tr>\n      <th>2020-03-27</th>\n      <td>91.568008</td>\n      <td>0.002382</td>\n      <td>0.004882</td>\n      <td>0.008819</td>\n      <td>0.005361</td>\n    </tr>\n    <tr>\n      <th>2020-03-30</th>\n      <td>91.568008</td>\n      <td>0.002491</td>\n      <td>0.004991</td>\n      <td>0.008819</td>\n      <td>0.005434</td>\n    </tr>\n    <tr>\n      <th>2020-03-31</th>\n      <td>91.577995</td>\n      <td>0.002305</td>\n      <td>0.004991</td>\n      <td>0.008818</td>\n      <td>0.005371</td>\n    </tr>\n    <tr>\n      <th>2020-04-01</th>\n      <td>91.570000</td>\n      <td>0.001998</td>\n      <td>0.004903</td>\n      <td>0.008764</td>\n      <td>0.005222</td>\n    </tr>\n    <tr>\n      <th>2020-04-02</th>\n      <td>91.580002</td>\n      <td>0.001670</td>\n      <td>0.004684</td>\n      <td>0.008874</td>\n      <td>0.005076</td>\n    </tr>\n    <tr>\n      <th>2020-04-03</th>\n      <td>91.550003</td>\n      <td>0.001123</td>\n      <td>0.004355</td>\n      <td>0.008213</td>\n      <td>0.004564</td>\n    </tr>\n    <tr>\n      <th>2020-04-06</th>\n      <td>91.559998</td>\n      <td>0.001233</td>\n      <td>0.004574</td>\n      <td>0.008323</td>\n      <td>0.004710</td>\n    </tr>\n    <tr>\n      <th>2020-04-07</th>\n      <td>91.540001</td>\n      <td>0.000577</td>\n      <td>0.004355</td>\n      <td>0.007993</td>\n      <td>0.004308</td>\n    </tr>\n    <tr>\n      <th>2020-04-08</th>\n      <td>91.550003</td>\n      <td>0.000905</td>\n      <td>0.004245</td>\n      <td>0.008103</td>\n      <td>0.004418</td>\n    </tr>\n    <tr>\n      <th>2020-04-09</th>\n      <td>91.529999</td>\n      <td>0.000468</td>\n      <td>0.003916</td>\n      <td>0.007883</td>\n      <td>0.004089</td>\n    </tr>\n    <tr>\n      <th>2020-04-13</th>\n      <td>91.550003</td>\n      <td>0.000577</td>\n      <td>0.004135</td>\n      <td>0.007882</td>\n      <td>0.004198</td>\n    </tr>\n    <tr>\n      <th>2020-04-14</th>\n      <td>91.559998</td>\n      <td>0.000468</td>\n      <td>0.004245</td>\n      <td>0.007882</td>\n      <td>0.004198</td>\n    </tr>\n    <tr>\n      <th>2020-04-15</th>\n      <td>91.550003</td>\n      <td>0.000250</td>\n      <td>0.004135</td>\n      <td>0.007882</td>\n      <td>0.004089</td>\n    </tr>\n    <tr>\n      <th>2020-04-16</th>\n      <td>91.540001</td>\n      <td>0.000141</td>\n      <td>0.003916</td>\n      <td>0.007662</td>\n      <td>0.003906</td>\n    </tr>\n    <tr>\n      <th>2020-04-17</th>\n      <td>91.556602</td>\n      <td>0.000104</td>\n      <td>0.003879</td>\n      <td>0.007735</td>\n      <td>0.003906</td>\n    </tr>\n  </tbody>\n</table>\n</div>"
     },
     "metadata": {},
     "execution_count": 6
    }
   ],
   "source": [
    "for p in PERIODS:\n",
    "    df[str(p) + 'D'] = df['Close'].pct_change(p) + EXPENSES\n",
    "\n",
    "df['Score'] = df[df.columns[-3:]].dot(WEIGHTS)\n",
    "\n",
    "df.tail(21)"
   ]
  }
 ]
}